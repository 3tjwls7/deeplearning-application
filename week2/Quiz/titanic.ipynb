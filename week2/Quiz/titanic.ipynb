{
 "cells": [
  {
   "cell_type": "code",
   "execution_count": 54,
   "id": "5a579917-3ef9-4919-aad0-6239d9939e63",
   "metadata": {},
   "outputs": [],
   "source": [
    "import pandas as pd\n",
    "import numpy as np\n",
    "from sklearn.model_selection import train_test_split\n",
    "from sklearn.preprocessing import StandardScaler\n",
    "from sklearn.tree import DecisionTreeClassifier\n",
    "from sklearn.ensemble import RandomForestClassifier\n",
    "from sklearn.svm import SVC\n",
    "from sklearn.linear_model import LogisticRegression\n",
    "from sklearn.neighbors import KNeighborsClassifier\n",
    "from sklearn.metrics import accuracy_score, classification_report\n",
    "\n",
    "# 데이터 로드\n",
    "file_url = \"https://raw.githubusercontent.com/MyungKyuYi/AI-class/main/titanic.csv\"\n",
    "df = pd.read_csv(file_url)"
   ]
  },
  {
   "cell_type": "code",
   "execution_count": 74,
   "id": "804ff002-6bbd-4fbb-b3db-1b15e834ee14",
   "metadata": {},
   "outputs": [
    {
     "name": "stdout",
     "output_type": "stream",
     "text": [
      "데이터프레임 컬럼명:\n",
      " Index(['PassengerId', 'Survived', 'Pclass', 'Age', 'SibSp', 'Parch', 'Fare',\n",
      "       'Sex_male', 'Cabin_A14', 'Cabin_A16',\n",
      "       ...\n",
      "       'Cabin_E8', 'Cabin_F E69', 'Cabin_F G63', 'Cabin_F G73', 'Cabin_F2',\n",
      "       'Cabin_F33', 'Cabin_F38', 'Cabin_F4', 'Cabin_G6', 'Cabin_T'],\n",
      "      dtype='object', length=154)\n"
     ]
    }
   ],
   "source": [
    "# 데이터 확인\n",
    "print(\"데이터프레임 컬럼명:\\n\", df.columns)"
   ]
  },
  {
   "cell_type": "code",
   "execution_count": 94,
   "id": "f6a884ec-0eb9-42e0-aedc-00fafe969699",
   "metadata": {},
   "outputs": [
    {
     "name": "stdout",
     "output_type": "stream",
     "text": [
      "\n",
      "🚀 0개의 행이 결측치 때문에 삭제됨\n",
      "\n",
      " 문자열 컬럼 확인: Index([], dtype='object')\n"
     ]
    }
   ],
   "source": [
    "# 불필요한 컬럼 제거 (Name, Ticket, Embarked 제거)\n",
    "df = df.drop(columns=['Name', 'Ticket', 'Embarked'], errors='ignore')\n",
    "\n",
    "# 나이(Age) 컬럼의 결측치를 평균으로 대체\n",
    "df['Age'] = df['Age'].fillna(df['Age'].mean())\n",
    "\n",
    "# 결측치 처리\n",
    "df = df.dropna()\n",
    "\n",
    "# 문자열 데이터 확인 및 처리\n",
    "string_columns = df.select_dtypes(include=['object']).columns\n",
    "print(\"\\n 문자열 컬럼 확인:\", string_columns)"
   ]
  },
  {
   "cell_type": "code",
   "execution_count": 78,
   "id": "3e5737ae-30a1-4ae7-8703-07d2eee47d9e",
   "metadata": {},
   "outputs": [
    {
     "name": "stdout",
     "output_type": "stream",
     "text": [
      "종속변수 컬럼명: Survived\n",
      "Survived\n",
      "1    136\n",
      "0     68\n",
      "Name: count, dtype: int64\n"
     ]
    }
   ],
   "source": [
    "# 종속변수 컬럼명 확인\n",
    "target_column = 'Survived'  # 타이타닉 생존 여부 컬럼\n",
    "print(\"종속변수 컬럼명:\", target_column)\n",
    "\n",
    "# 레이블 갯수 확인 (숫자)\n",
    "print(df[target_column].value_counts())\n",
    "\n",
    "# 독립변수(X)와 종속변수(y) 분리\n",
    "X = df.drop(columns=[target_column])  # 종속변수 제외\n",
    "y = df[target_column]   # 종속변수\n",
    "\n",
    "# 데이터 분할 (훈련 80%, 테스트 20%)\n",
    "X_train, X_test, y_train, y_test = train_test_split(X, y, test_size=0.2, random_state=42, stratify=y)\n",
    "\n",
    "# 데이터 스케일링\n",
    "scaler = StandardScaler()\n",
    "X_train_scaled = scaler.fit_transform(X_train)\n",
    "X_test_scaled = scaler.transform(X_test)"
   ]
  },
  {
   "cell_type": "code",
   "execution_count": 80,
   "id": "4683afc8-93c6-457a-8879-6009219226a6",
   "metadata": {},
   "outputs": [
    {
     "name": "stdout",
     "output_type": "stream",
     "text": [
      "결정 트리 정확도: 0.7560975609756098\n",
      "              precision    recall  f1-score   support\n",
      "\n",
      "           0       0.75      0.43      0.55        14\n",
      "           1       0.76      0.93      0.83        27\n",
      "\n",
      "    accuracy                           0.76        41\n",
      "   macro avg       0.75      0.68      0.69        41\n",
      "weighted avg       0.75      0.76      0.74        41\n",
      "\n"
     ]
    }
   ],
   "source": [
    "# 결정 트리 모델 학습 및 평가\n",
    "dt = DecisionTreeClassifier(random_state=42)\n",
    "dt.fit(X_train, y_train)\n",
    "y_pred_dt = dt.predict(X_test)\n",
    "print(\"결정 트리 정확도:\", accuracy_score(y_test, y_pred_dt))\n",
    "print(classification_report(y_test, y_pred_dt, zero_division=1))"
   ]
  },
  {
   "cell_type": "code",
   "execution_count": 82,
   "id": "66bc7a05-b803-41ca-8711-a36188360228",
   "metadata": {},
   "outputs": [
    {
     "name": "stdout",
     "output_type": "stream",
     "text": [
      "랜덤 포레스트 정확도: 0.7317073170731707\n",
      "              precision    recall  f1-score   support\n",
      "\n",
      "           0       0.67      0.43      0.52        14\n",
      "           1       0.75      0.89      0.81        27\n",
      "\n",
      "    accuracy                           0.73        41\n",
      "   macro avg       0.71      0.66      0.67        41\n",
      "weighted avg       0.72      0.73      0.71        41\n",
      "\n"
     ]
    }
   ],
   "source": [
    "# 랜덤 포레스트 모델 학습 및 평가\n",
    "rf = RandomForestClassifier(n_estimators=100, random_state=42)\n",
    "rf.fit(X_train, y_train)\n",
    "y_pred_rf = rf.predict(X_test)\n",
    "print(\"랜덤 포레스트 정확도:\", accuracy_score(y_test, y_pred_rf))\n",
    "print(classification_report(y_test, y_pred_rf, zero_division=1))"
   ]
  },
  {
   "cell_type": "code",
   "execution_count": 84,
   "id": "09222ce6-9b18-45c8-a8ee-a752b907cb46",
   "metadata": {},
   "outputs": [
    {
     "name": "stdout",
     "output_type": "stream",
     "text": [
      "SVM 정확도: 0.8048780487804879\n",
      "              precision    recall  f1-score   support\n",
      "\n",
      "           0       0.71      0.71      0.71        14\n",
      "           1       0.85      0.85      0.85        27\n",
      "\n",
      "    accuracy                           0.80        41\n",
      "   macro avg       0.78      0.78      0.78        41\n",
      "weighted avg       0.80      0.80      0.80        41\n",
      "\n"
     ]
    }
   ],
   "source": [
    "# SVM 모델 학습 및 평가\n",
    "svm = SVC(kernel='linear', random_state=42)\n",
    "svm.fit(X_train_scaled, y_train)\n",
    "y_pred_svm = svm.predict(X_test_scaled)\n",
    "print(\"SVM 정확도:\", accuracy_score(y_test, y_pred_svm))\n",
    "print(classification_report(y_test, y_pred_svm, zero_division=1))"
   ]
  },
  {
   "cell_type": "code",
   "execution_count": 86,
   "id": "4736715f-ae3a-4cc6-b2f6-fb987990e6fd",
   "metadata": {},
   "outputs": [
    {
     "name": "stdout",
     "output_type": "stream",
     "text": [
      "로지스틱 회귀 정확도: 0.7560975609756098\n",
      "              precision    recall  f1-score   support\n",
      "\n",
      "           0       0.70      0.50      0.58        14\n",
      "           1       0.77      0.89      0.83        27\n",
      "\n",
      "    accuracy                           0.76        41\n",
      "   macro avg       0.74      0.69      0.71        41\n",
      "weighted avg       0.75      0.76      0.74        41\n",
      "\n"
     ]
    }
   ],
   "source": [
    "# 로지스틱 회귀 모델 학습 및 평가\n",
    "lr = LogisticRegression(max_iter=500, random_state=42)\n",
    "lr.fit(X_train_scaled, y_train)\n",
    "y_pred_lr = lr.predict(X_test_scaled)\n",
    "print(\"로지스틱 회귀 정확도:\", accuracy_score(y_test, y_pred_lr))\n",
    "print(classification_report(y_test, y_pred_lr, zero_division=1))"
   ]
  },
  {
   "cell_type": "code",
   "execution_count": 88,
   "id": "d608efa4-0fd1-43ef-a1fc-3b8d0e87a668",
   "metadata": {},
   "outputs": [
    {
     "name": "stdout",
     "output_type": "stream",
     "text": [
      "KNN 정확도: 0.6585365853658537\n",
      "              precision    recall  f1-score   support\n",
      "\n",
      "           0       1.00      0.00      0.00        14\n",
      "           1       0.66      1.00      0.79        27\n",
      "\n",
      "    accuracy                           0.66        41\n",
      "   macro avg       0.83      0.50      0.40        41\n",
      "weighted avg       0.78      0.66      0.52        41\n",
      "\n"
     ]
    }
   ],
   "source": [
    "# KNN 모델 학습 및 평가\n",
    "knn = KNeighborsClassifier(n_neighbors=5)\n",
    "knn.fit(X_train_scaled, y_train)\n",
    "y_pred_knn = knn.predict(X_test_scaled)\n",
    "print(\"KNN 정확도:\", accuracy_score(y_test, y_pred_knn))\n",
    "print(classification_report(y_test, y_pred_knn, zero_division=1))"
   ]
  }
 ],
 "metadata": {
  "kernelspec": {
   "display_name": "Python [conda env:base] *",
   "language": "python",
   "name": "conda-base-py"
  },
  "language_info": {
   "codemirror_mode": {
    "name": "ipython",
    "version": 3
   },
   "file_extension": ".py",
   "mimetype": "text/x-python",
   "name": "python",
   "nbconvert_exporter": "python",
   "pygments_lexer": "ipython3",
   "version": "3.12.7"
  }
 },
 "nbformat": 4,
 "nbformat_minor": 5
}
