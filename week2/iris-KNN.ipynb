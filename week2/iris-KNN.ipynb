{
 "cells": [
  {
   "cell_type": "markdown",
   "id": "36cf050a-c3a6-4026-97dc-2d749a57ad35",
   "metadata": {},
   "source": [
    "# 2주차 과제"
   ]
  },
  {
   "cell_type": "markdown",
   "id": "827d571b-c897-4161-aa1d-c6d7bbf96ae2",
   "metadata": {},
   "source": [
    "## 붓꽃 데이터 분류"
   ]
  },
  {
   "cell_type": "code",
   "execution_count": 248,
   "id": "dc1ddfbd-ea6a-4414-97fb-99656eb3ed55",
   "metadata": {},
   "outputs": [],
   "source": [
    "import pandas as pd\n",
    "from sklearn.model_selection import train_test_split\n",
    "from sklearn.preprocessing import LabelEncoder, StandardScaler\n",
    "from sklearn.neighbors import KNeighborsClassifier\n",
    "from sklearn.tree import DecisionTreeClassifier\n",
    "from sklearn.ensemble import RandomForestClassifier\n",
    "from sklearn.svm import SVC\n",
    "from sklearn.linear_model import LogisticRegression\n",
    "from sklearn.metrics import accuracy_score\n",
    "import matplotlib.pyplot as plt"
   ]
  },
  {
   "cell_type": "code",
   "execution_count": 268,
   "id": "73c31978-73eb-4867-9c8e-779304b9a8e9",
   "metadata": {},
   "outputs": [],
   "source": [
    "# 데이터 로드\n",
    "file_path = \"C:/Users/ckstn/OneDrive/바탕 화면/iris.csv\"\n",
    "df = pd.read_csv(file_path)\n",
    "\n",
    "# 데이터 분할 (입력 데이터와 라벨 분리)\n",
    "y = df[\"Name\"]  # 출력 데이터 (라벨)\n",
    "X = df.drop(columns=[\"Name\"])  # 입력 데이터 (특성)\n",
    "\n",
    "# 문자열 클래스 라벨을 숫자로 변환\n",
    "label_encoder = LabelEncoder()\n",
    "y = label_encoder.fit_transform(y)  # 변환한 후 덮어쓰지 않음!\n",
    "\n",
    "# 데이터 분할 (학습 80%, 테스트 20%)\n",
    "X_train, X_test, y_train, y_test = train_test_split(X, y, test_size=0.2, random_state=42)\n",
    "\n",
    "# 표준화 (SVM, KNN, LR에 유리)\n",
    "scaler = StandardScaler()\n",
    "X_train_scaled = scaler.fit_transform(X_train)\n",
    "X_test_scaled = scaler.transform(X_test)"
   ]
  },
  {
   "cell_type": "code",
   "execution_count": 270,
   "id": "e2890dc5-b59d-4965-a122-d3c4622ef5d9",
   "metadata": {},
   "outputs": [
    {
     "name": "stdout",
     "output_type": "stream",
     "text": [
      "Decision Tree 정확도: 1.0000\n"
     ]
    }
   ],
   "source": [
    "# Decision Tree 분류\n",
    "dt_clf = DecisionTreeClassifier()\n",
    "dt_clf.fit(X_train, y_train)\n",
    "dt_pred = dt_clf.predict(X_test)\n",
    "dt_accuracy = accuracy_score(y_test, dt_pred)\n",
    "print(f\"Decision Tree 정확도: {dt_accuracy:.4f}\")"
   ]
  },
  {
   "cell_type": "code",
   "execution_count": 272,
   "id": "fabb3b91-ee49-451b-b8f1-d69cb58d7da5",
   "metadata": {},
   "outputs": [
    {
     "name": "stdout",
     "output_type": "stream",
     "text": [
      "Random Forest 정확도: 1.0000\n"
     ]
    }
   ],
   "source": [
    "# Random Forest 분류\n",
    "rf_clf = RandomForestClassifier()\n",
    "rf_clf.fit(X_train, y_train)\n",
    "rf_pred = rf_clf.predict(X_test)\n",
    "rf_accuracy = accuracy_score(y_test, rf_pred)\n",
    "print(f\"Random Forest 정확도: {rf_accuracy:.4f}\")"
   ]
  },
  {
   "cell_type": "code",
   "execution_count": 274,
   "id": "267cd039-e05a-4aad-9fbb-1d07af4904db",
   "metadata": {},
   "outputs": [
    {
     "name": "stdout",
     "output_type": "stream",
     "text": [
      "SVM 정확도: 1.0000\n"
     ]
    }
   ],
   "source": [
    "# SVM 분류\n",
    "svm_clf = SVC()\n",
    "svm_clf.fit(X_train_scaled, y_train)\n",
    "svm_pred = svm_clf.predict(X_test_scaled)\n",
    "svm_accuracy = accuracy_score(y_test, svm_pred)\n",
    "print(f\"SVM 정확도: {svm_accuracy:.4f}\")"
   ]
  },
  {
   "cell_type": "code",
   "execution_count": 276,
   "id": "a3f68f18-ec63-49c5-bb25-5a80d3b0e685",
   "metadata": {},
   "outputs": [
    {
     "name": "stdout",
     "output_type": "stream",
     "text": [
      "Logistic Regression 정확도: 1.0000\n"
     ]
    }
   ],
   "source": [
    "# Logistic Regression 분류\n",
    "lr_clf = LogisticRegression()\n",
    "lr_clf.fit(X_train_scaled, y_train)\n",
    "lr_pred = lr_clf.predict(X_test_scaled)\n",
    "lr_accuracy = accuracy_score(y_test, lr_pred)\n",
    "print(f\"Logistic Regression 정확도: {lr_accuracy:.4f}\")"
   ]
  },
  {
   "cell_type": "code",
   "execution_count": 278,
   "id": "3d545b46-d8ab-468d-ba98-09b37649e23c",
   "metadata": {},
   "outputs": [
    {
     "name": "stdout",
     "output_type": "stream",
     "text": [
      "KNN 정확도: 1.0000\n"
     ]
    }
   ],
   "source": [
    "# KNN 알고리즘 적용\n",
    "knn_clf = KNeighborsClassifier(n_neighbors=5)\n",
    "knn_clf.fit(X_train_scaled, y_train)\n",
    "knn_pred = knn_clf.predict(X_test_scaled)\n",
    "knn_accuracy = accuracy_score(y_test, knn_pred)\n",
    "print(f\"KNN 정확도: {knn_accuracy:.4f}\")"
   ]
  },
  {
   "cell_type": "code",
   "execution_count": 280,
   "id": "166bf8fd-df32-4cea-8d9d-766f7925b61b",
   "metadata": {},
   "outputs": [
    {
     "name": "stdout",
     "output_type": "stream",
     "text": [
      "\n",
      "예측값 vs 정답 비교\n",
      "   정답  예측값\n",
      "0   1    1\n",
      "1   0    0\n",
      "2   2    2\n",
      "3   1    1\n",
      "4   1    1\n"
     ]
    }
   ],
   "source": [
    "# 예측값과 정답 비교\n",
    "comparison_df = pd.DataFrame({\"정답\": y_test, \"예측값\": knn_pred})\n",
    "print(\"\\n예측값 vs 정답 비교\")\n",
    "print(comparison_df.head())"
   ]
  },
  {
   "cell_type": "code",
   "execution_count": 282,
   "id": "5e9a71e2-19c6-405b-a177-cfb3d3c714bb",
   "metadata": {},
   "outputs": [],
   "source": [
    "# 여러 K 값에 대해 정확도 확인\n",
    "k_values = range(1, 21)  # 1부터 20까지의 K 값\n",
    "accuracies = []\n",
    "\n",
    "for k in k_values:\n",
    "    knn = KNeighborsClassifier(n_neighbors=k)\n",
    "    knn.fit(X_train_scaled, y_train)\n",
    "    y_pred = knn.predict(X_test_scaled)\n",
    "    accuracies.append(accuracy_score(y_test, y_pred))"
   ]
  },
  {
   "cell_type": "code",
   "execution_count": 284,
   "id": "c7b86c6e-fded-4e83-8273-81c8ccf8d4fc",
   "metadata": {},
   "outputs": [
    {
     "data": {
      "image/png": "[encoded data removed]",
      "text/plain": [
       "<Figure size 800x500 with 1 Axes>"
      ]
     },
     "metadata": {},
     "output_type": "display_data"
    }
   ],
   "source": [
    "# 정확도를 그래프로 시각화\n",
    "plt.figure(figsize=(8, 5))\n",
    "plt.plot(k_values, accuracies, marker='o', linestyle='-')\n",
    "plt.xlabel('K value')\n",
    "plt.ylabel('Accuracy')\n",
    "plt.title('K-NN Accuracy vs. K value')\n",
    "plt.xticks(k_values)\n",
    "plt.grid()\n",
    "plt.show()"
   ]
  }
 ],
 "metadata": {
  "kernelspec": {
   "display_name": "Python [conda env:base] *",
   "language": "python",
   "name": "conda-base-py"
  },
  "language_info": {
   "codemirror_mode": {
    "name": "ipython",
    "version": 3
   },
   "file_extension": ".py",
   "mimetype": "text/x-python",
   "name": "python",
   "nbconvert_exporter": "python",
   "pygments_lexer": "ipython3",
   "version": "3.12.7"
  }
 },
 "nbformat": 4,
 "nbformat_minor": 5
}
