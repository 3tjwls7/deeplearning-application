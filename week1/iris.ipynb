{
 "cells": [
  {
   "cell_type": "markdown",
   "id": "8e65664a-924b-40a7-8910-108a82828b51",
   "metadata": {},
   "source": [
    "# 1주차 과제\n",
    "## 붓꽃 데이터 분류"
   ]
  },
  {
   "cell_type": "code",
   "execution_count": 11,
   "id": "84faaea4-6ed5-49a6-b634-d27d3a1c37dd",
   "metadata": {},
   "outputs": [],
   "source": [
    "import pandas as pd\n",
    "from sklearn.model_selection import train_test_split\n",
    "from sklearn.preprocessing import StandardScaler\n",
    "from sklearn.tree import DecisionTreeClassifier\n",
    "from sklearn.ensemble import RandomForestClassifier\n",
    "from sklearn.svm import SVC\n",
    "from sklearn.linear_model import LogisticRegression\n",
    "from sklearn.metrics import accuracy_score"
   ]
  },
  {
   "cell_type": "code",
   "execution_count": 13,
   "id": "acfddb08-50c2-4dc3-86ec-a8b3f9e6c6e7",
   "metadata": {},
   "outputs": [],
   "source": [
    "# 1. 붓꽃 데이터 CSV 파일 읽기\n",
    "file_path = \"C:/Users/ckstn/OneDrive/바탕 화면/iris.csv\"\n",
    "df = pd.read_csv(file_path) "
   ]
  },
  {
   "cell_type": "code",
   "execution_count": 15,
   "id": "4bad05cb-6c6c-428f-8846-5fe09946c2c4",
   "metadata": {},
   "outputs": [
    {
     "name": "stdout",
     "output_type": "stream",
     "text": [
      "데이터 프레임 처음 5개 행:\n",
      "   SepalLength  SepalWidth  PetalLength  PetalWidth         Name\n",
      "0          5.1         3.5          1.4         0.2  Iris-setosa\n",
      "1          4.9         3.0          1.4         0.2  Iris-setosa\n",
      "2          4.7         3.2          1.3         0.2  Iris-setosa\n",
      "3          4.6         3.1          1.5         0.2  Iris-setosa\n",
      "4          5.0         3.6          1.4         0.2  Iris-setosa\n",
      "컬럼명 확인: ['SepalLength', 'SepalWidth', 'PetalLength', 'PetalWidth', 'Name']\n"
     ]
    }
   ],
   "source": [
    "# 2. 데이터 확인\n",
    "print(\"데이터 프레임 처음 5개 행:\")\n",
    "print(df.head())\n",
    "print(\"컬럼명 확인:\", df.columns.tolist())"
   ]
  },
  {
   "cell_type": "code",
   "execution_count": 17,
   "id": "19a65322-3bec-4cb0-b6e4-b9c87f9ae85b",
   "metadata": {},
   "outputs": [],
   "source": [
    "# 3. 데이터 분할\n",
    "X = df.drop(columns=[\"Name\"])  # 입력 데이터 (특성)\n",
    "y = df[\"Name\"]  # 출력 데이터 (라벨)\n",
    "X_train, X_test, y_train, y_test = train_test_split(X, y, test_size=0.2, random_state=42)"
   ]
  },
  {
   "cell_type": "code",
   "execution_count": 19,
   "id": "8e4069aa-ea4e-402b-bbfb-2541213579c9",
   "metadata": {},
   "outputs": [],
   "source": [
    "# 4. 데이터 정규화\n",
    "scaler = StandardScaler()\n",
    "X_train = scaler.fit_transform(X_train)\n",
    "X_test = scaler.transform(X_test)"
   ]
  },
  {
   "cell_type": "markdown",
   "id": "b7374fe3-f8ad-489a-97e2-4cf14da4548a",
   "metadata": {},
   "source": [
    "### 5. 결정 트리 학습 및 평가"
   ]
  },
  {
   "cell_type": "code",
   "execution_count": 22,
   "id": "ed7d332a-da16-462f-8c3d-d4b91fdc4dbd",
   "metadata": {},
   "outputs": [
    {
     "name": "stdout",
     "output_type": "stream",
     "text": [
      "Decision Tree Accuracy: 1.0000\n"
     ]
    }
   ],
   "source": [
    "dt_model = DecisionTreeClassifier()\n",
    "dt_model.fit(X_train, y_train) # 학습\n",
    "dt_pred = dt_model.predict(X_test) # 예측\n",
    "dt_accuracy = accuracy_score(y_test, dt_pred) # 정답률\n",
    "print(f\"Decision Tree Accuracy: {dt_accuracy:.4f}\")"
   ]
  },
  {
   "cell_type": "markdown",
   "id": "5a6270d9-1150-4a86-a601-b92fba6bf608",
   "metadata": {},
   "source": [
    "### 6. 랜덤 포레스트 학습 및 평가"
   ]
  },
  {
   "cell_type": "code",
   "execution_count": 25,
   "id": "194e46ca-408c-4e68-b63c-e7ee9664849d",
   "metadata": {},
   "outputs": [
    {
     "name": "stdout",
     "output_type": "stream",
     "text": [
      "Random Forest Accuracy: 1.0000\n"
     ]
    }
   ],
   "source": [
    "rf_model = RandomForestClassifier()\n",
    "rf_model.fit(X_train, y_train)\n",
    "rf_pred = rf_model.predict(X_test)\n",
    "rf_accuracy = accuracy_score(y_test, rf_pred)\n",
    "print(f\"Random Forest Accuracy: {rf_accuracy:.4f}\")"
   ]
  },
  {
   "cell_type": "markdown",
   "id": "77e232bb-2524-4093-81dc-18fc3c84cb4e",
   "metadata": {},
   "source": [
    "### 7. SVM 학습 및 평가"
   ]
  },
  {
   "cell_type": "code",
   "execution_count": 28,
   "id": "b038a4fc-3bd1-4d62-a395-5c7eaf628153",
   "metadata": {},
   "outputs": [
    {
     "name": "stdout",
     "output_type": "stream",
     "text": [
      "SVM Accuracy: 1.0000\n"
     ]
    }
   ],
   "source": [
    "svm_model = SVC()\n",
    "svm_model.fit(X_train, y_train)\n",
    "svm_pred = svm_model.predict(X_test)\n",
    "svm_accuracy = accuracy_score(y_test, svm_pred)\n",
    "print(f\"SVM Accuracy: {svm_accuracy:.4f}\")"
   ]
  },
  {
   "cell_type": "markdown",
   "id": "98d4e1a4-5eba-4f6f-be4c-c64723cc3a7e",
   "metadata": {},
   "source": [
    "### 8. 로지스틱 회귀 학습 및 평가"
   ]
  },
  {
   "cell_type": "code",
   "execution_count": 31,
   "id": "0629930a-7cf2-4d76-998e-82c4644484c2",
   "metadata": {},
   "outputs": [
    {
     "name": "stdout",
     "output_type": "stream",
     "text": [
      "Logistic Regression Accuracy: 1.0000\n"
     ]
    }
   ],
   "source": [
    "lr_model = LogisticRegression(max_iter=200)\n",
    "lr_model.fit(X_train, y_train)\n",
    "lr_pred = lr_model.predict(X_test)\n",
    "lr_accuracy = accuracy_score(y_test, lr_pred)\n",
    "print(f\"Logistic Regression Accuracy: {lr_accuracy:.4f}\")"
   ]
  }
 ],
 "metadata": {
  "kernelspec": {
   "display_name": "Python [conda env:base] *",
   "language": "python",
   "name": "conda-base-py"
  },
  "language_info": {
   "codemirror_mode": {
    "name": "ipython",
    "version": 3
   },
   "file_extension": ".py",
   "mimetype": "text/x-python",
   "name": "python",
   "nbconvert_exporter": "python",
   "pygments_lexer": "ipython3",
   "version": "3.12.7"
  }
 },
 "nbformat": 4,
 "nbformat_minor": 5
}
