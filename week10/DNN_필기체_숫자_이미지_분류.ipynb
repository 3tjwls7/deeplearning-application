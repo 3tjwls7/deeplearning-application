{
  "nbformat": 4,
  "nbformat_minor": 0,
  "metadata": {
    "colab": {
      "provenance": []
    },
    "kernelspec": {
      "name": "python3",
      "display_name": "Python 3"
    },
    "language_info": {
      "name": "python"
    }
  },
  "cells": [
    {
      "cell_type": "code",
      "execution_count": 2,
      "metadata": {
        "colab": {
          "base_uri": "https://localhost:8080/",
          "height": 430
        },
        "id": "Wf1KQXaHhbfp",
        "outputId": "25668f0e-42e8-479f-c4c8-9368476a37fa"
      },
      "outputs": [
        {
          "output_type": "display_data",
          "data": {
            "text/plain": [
              "<Figure size 640x480 with 1 Axes>"
            ],
            "image/png": "[encoded data removed]"
          },
          "metadata": {}
        }
      ],
      "source": [
        "# 데이터 세트 읽어들이기\n",
        "import matplotlib.pyplot as plt\n",
        "from sklearn import datasets, metrics\n",
        "from sklearn.model_selection import train_test_split\n",
        "import torch\n",
        "import torch.nn as nn\n",
        "import torch.optim as optim\n",
        "\n",
        "# 데이터 로드\n",
        "digits = datasets.load_digits()\n",
        "plt.imshow(digits.images[0], cmap=plt.cm.gray_r, interpolation='nearest')\n",
        "plt.show()"
      ]
    },
    {
      "cell_type": "code",
      "source": [
        "n_samples = len(digits.images)\n",
        "data = digits.images.reshape((n_samples, -1))\n",
        "\n",
        "# 훈련 데이터와 테스트 데이터\n",
        "X_train, X_test, y_train, y_test = train_test_split(data, digits.target, test_size=0.2)"
      ],
      "metadata": {
        "id": "-vtVM_ysh52r"
      },
      "execution_count": 3,
      "outputs": []
    },
    {
      "cell_type": "code",
      "source": [
        "# numpy -> tensor 변환\n",
        "X_train = torch.tensor(X_train, dtype=torch.float32)\n",
        "X_test = torch.tensor(X_test, dtype=torch.float32)\n",
        "y_train = torch.tensor(y_train, dtype=torch.long)\n",
        "y_test = torch.tensor(y_test, dtype=torch.long)"
      ],
      "metadata": {
        "id": "gFVWIwkZjNsa"
      },
      "execution_count": 4,
      "outputs": []
    },
    {
      "cell_type": "code",
      "source": [
        "# 모델\n",
        "class SimpleNN(nn.Module):\n",
        "    def __init__(self):\n",
        "        super(SimpleNN, self).__init__()\n",
        "        self.fc1 = nn.Linear(64, 64)  # 입력 64차원, 출력 64차원\n",
        "        self.relu = nn.ReLU()\n",
        "        self.fc2 = nn.Linear(64, 10)  # 10개의 숫자 분류\n",
        "\n",
        "    def forward(self, x):\n",
        "        x = self.fc1(x)\n",
        "        x = self.relu(x)\n",
        "        x = self.fc2(x)\n",
        "        return x\n",
        "\n",
        "model = SimpleNN()\n",
        "\n",
        "# 손실 함수와 최적화하기\n",
        "criterion = nn.CrossEntropyLoss()\n",
        "optimizer = optim.Adam(model.parameters(), lr=0.001)"
      ],
      "metadata": {
        "id": "Z_FIubVLiM2G"
      },
      "execution_count": 5,
      "outputs": []
    },
    {
      "cell_type": "code",
      "source": [
        "# 학습\n",
        "epochs = 100\n",
        "for epoch in range(epochs):\n",
        "    model.train()\n",
        "    optimizer.zero_grad()\n",
        "    outputs = model(X_train)\n",
        "    loss = criterion(outputs, y_train)\n",
        "    loss.backward()\n",
        "    optimizer.step()\n",
        "\n",
        "    if (epoch+1) % 5 == 0:\n",
        "        print(f'Epoch [{epoch+1}/{epochs}], Loss: {loss.item():.4f}')"
      ],
      "metadata": {
        "colab": {
          "base_uri": "https://localhost:8080/"
        },
        "id": "-VUNO8tNjUiz",
        "outputId": "f07670d8-02e2-4682-d72c-32b483bb5546"
      },
      "execution_count": 6,
      "outputs": [
        {
          "output_type": "stream",
          "name": "stdout",
          "text": [
            "Epoch [5/100], Loss: 2.3331\n",
            "Epoch [10/100], Loss: 1.8080\n",
            "Epoch [15/100], Loss: 1.3839\n",
            "Epoch [20/100], Loss: 1.0510\n",
            "Epoch [25/100], Loss: 0.8090\n",
            "Epoch [30/100], Loss: 0.6190\n",
            "Epoch [35/100], Loss: 0.4845\n",
            "Epoch [40/100], Loss: 0.3896\n",
            "Epoch [45/100], Loss: 0.3226\n",
            "Epoch [50/100], Loss: 0.2736\n",
            "Epoch [55/100], Loss: 0.2374\n",
            "Epoch [60/100], Loss: 0.2098\n",
            "Epoch [65/100], Loss: 0.1881\n",
            "Epoch [70/100], Loss: 0.1706\n",
            "Epoch [75/100], Loss: 0.1558\n",
            "Epoch [80/100], Loss: 0.1434\n",
            "Epoch [85/100], Loss: 0.1326\n",
            "Epoch [90/100], Loss: 0.1231\n",
            "Epoch [95/100], Loss: 0.1146\n",
            "Epoch [100/100], Loss: 0.1071\n"
          ]
        }
      ]
    },
    {
      "cell_type": "code",
      "source": [
        "# 예측\n",
        "model.eval()\n",
        "with torch.no_grad():\n",
        "    outputs = model(X_test)\n",
        "    _, predicted = torch.max(outputs, 1)"
      ],
      "metadata": {
        "id": "NNQPPjXwjXBH"
      },
      "execution_count": 7,
      "outputs": []
    },
    {
      "cell_type": "code",
      "source": [
        "# 정확도 계산\n",
        "accuracy = metrics.accuracy_score(y_test.numpy(), predicted.numpy())\n",
        "print('Accuracy:', accuracy)"
      ],
      "metadata": {
        "colab": {
          "base_uri": "https://localhost:8080/"
        },
        "id": "_ZBwj6RXjZKu",
        "outputId": "fc6150d4-4c16-43c3-bd1a-d518cb919912"
      },
      "execution_count": 8,
      "outputs": [
        {
          "output_type": "stream",
          "name": "stdout",
          "text": [
            "Accuracy: 0.9555555555555556\n"
          ]
        }
      ]
    },
    {
      "cell_type": "code",
      "source": [
        "# 테스트 이미지 하나 보여주기\n",
        "plt.imshow(X_test[10].reshape(8, 8), cmap=plt.cm.gray_r, interpolation='nearest')"
      ],
      "metadata": {
        "colab": {
          "base_uri": "https://localhost:8080/",
          "height": 448
        },
        "id": "TgwlL359iVf8",
        "outputId": "4a4ef6d6-6925-4a24-d663-f6d92fcc5d93"
      },
      "execution_count": 9,
      "outputs": [
        {
          "output_type": "execute_result",
          "data": {
            "text/plain": [
              "<matplotlib.image.AxesImage at 0x7935ceec23d0>"
            ]
          },
          "metadata": {},
          "execution_count": 9
        },
        {
          "output_type": "display_data",
          "data": {
            "text/plain": [
              "<Figure size 640x480 with 1 Axes>"
            ],
            "image/png": "[encoded data removed]"
          },
          "metadata": {}
        }
      ]
    },
    {
      "cell_type": "code",
      "source": [
        "# 예측 결과\n",
        "model.eval()\n",
        "with torch.no_grad():\n",
        "    sample = X_test[10].unsqueeze(0)  # 배치 차원 추가\n",
        "    output = model(sample)\n",
        "    _, y_pred = torch.max(output, 1)\n",
        "    print('예측 결과:', y_pred.item())  # 숫자 값만 출력"
      ],
      "metadata": {
        "colab": {
          "base_uri": "https://localhost:8080/"
        },
        "id": "3DdRu22Ek42S",
        "outputId": "a06bb929-d160-4ad9-d0e7-11608b28364d"
      },
      "execution_count": 10,
      "outputs": [
        {
          "output_type": "stream",
          "name": "stdout",
          "text": [
            "예측 결과: 5\n"
          ]
        }
      ]
    },
    {
      "cell_type": "code",
      "source": [
        "from sklearn.metrics import confusion_matrix\n",
        "import seaborn as sns\n",
        "\n",
        "cm = confusion_matrix(y_test.numpy(), predicted.numpy())\n",
        "plt.figure(figsize=(8, 6))\n",
        "sns.heatmap(cm, annot=True, cmap='Blues', fmt='d')\n",
        "plt.xlabel(\"Predicted\")\n",
        "plt.ylabel(\"True\")\n",
        "plt.title(\"Confusion Matrix\")\n",
        "plt.show()"
      ],
      "metadata": {
        "colab": {
          "base_uri": "https://localhost:8080/",
          "height": 564
        },
        "id": "9WUwzn_ZDZ68",
        "outputId": "3ce0f1b7-486b-4803-e25b-57dfec91ce0d"
      },
      "execution_count": 11,
      "outputs": [
        {
          "output_type": "display_data",
          "data": {
            "text/plain": [
              "<Figure size 800x600 with 2 Axes>"
            ],
            "image/png": "[encoded data removed]"
          },
          "metadata": {}
        }
      ]
    },
    {
      "cell_type": "code",
      "source": [
        "from sklearn.metrics import classification_report\n",
        "\n",
        "print(\"Classification Report:\\n\")\n",
        "print(classification_report(y_test.numpy(), predicted.numpy(), digits=4))"
      ],
      "metadata": {
        "colab": {
          "base_uri": "https://localhost:8080/"
        },
        "id": "vhwUNQ3xDoUf",
        "outputId": "d2a03117-5c11-49e8-f36f-e7638e6de672"
      },
      "execution_count": 12,
      "outputs": [
        {
          "output_type": "stream",
          "name": "stdout",
          "text": [
            "Classification Report:\n",
            "\n",
            "              precision    recall  f1-score   support\n",
            "\n",
            "           0     1.0000    1.0000    1.0000        25\n",
            "           1     0.9512    0.9512    0.9512        41\n",
            "           2     1.0000    0.9737    0.9867        38\n",
            "           3     0.9744    0.9500    0.9620        40\n",
            "           4     1.0000    0.9688    0.9841        32\n",
            "           5     0.9459    0.9211    0.9333        38\n",
            "           6     0.9667    0.9062    0.9355        32\n",
            "           7     0.9512    0.9750    0.9630        40\n",
            "           8     0.8718    1.0000    0.9315        34\n",
            "           9     0.9250    0.9250    0.9250        40\n",
            "\n",
            "    accuracy                         0.9556       360\n",
            "   macro avg     0.9586    0.9571    0.9572       360\n",
            "weighted avg     0.9571    0.9556    0.9557       360\n",
            "\n"
          ]
        }
      ]
    }
  ]
}