{
 "cells": [
  {
   "cell_type": "code",
   "execution_count": 3,
   "id": "e0feb1f0-194b-489c-a7d2-5cbcdea61136",
   "metadata": {},
   "outputs": [
    {
     "data": {
      "text/html": [
       "<div>\n",
       "<style scoped>\n",
       "    .dataframe tbody tr th:only-of-type {\n",
       "        vertical-align: middle;\n",
       "    }\n",
       "\n",
       "    .dataframe tbody tr th {\n",
       "        vertical-align: top;\n",
       "    }\n",
       "\n",
       "    .dataframe thead th {\n",
       "        text-align: right;\n",
       "    }\n",
       "</style>\n",
       "<table border=\"1\" class=\"dataframe\">\n",
       "  <thead>\n",
       "    <tr style=\"text-align: right;\">\n",
       "      <th></th>\n",
       "      <th>vhigh</th>\n",
       "      <th>vhigh.1</th>\n",
       "      <th>2</th>\n",
       "      <th>2.1</th>\n",
       "      <th>small</th>\n",
       "      <th>low</th>\n",
       "      <th>unacc</th>\n",
       "    </tr>\n",
       "  </thead>\n",
       "  <tbody>\n",
       "    <tr>\n",
       "      <th>0</th>\n",
       "      <td>vhigh</td>\n",
       "      <td>vhigh</td>\n",
       "      <td>2</td>\n",
       "      <td>2</td>\n",
       "      <td>small</td>\n",
       "      <td>med</td>\n",
       "      <td>unacc</td>\n",
       "    </tr>\n",
       "    <tr>\n",
       "      <th>1</th>\n",
       "      <td>vhigh</td>\n",
       "      <td>vhigh</td>\n",
       "      <td>2</td>\n",
       "      <td>2</td>\n",
       "      <td>small</td>\n",
       "      <td>high</td>\n",
       "      <td>unacc</td>\n",
       "    </tr>\n",
       "    <tr>\n",
       "      <th>2</th>\n",
       "      <td>vhigh</td>\n",
       "      <td>vhigh</td>\n",
       "      <td>2</td>\n",
       "      <td>2</td>\n",
       "      <td>med</td>\n",
       "      <td>low</td>\n",
       "      <td>unacc</td>\n",
       "    </tr>\n",
       "    <tr>\n",
       "      <th>3</th>\n",
       "      <td>vhigh</td>\n",
       "      <td>vhigh</td>\n",
       "      <td>2</td>\n",
       "      <td>2</td>\n",
       "      <td>med</td>\n",
       "      <td>med</td>\n",
       "      <td>unacc</td>\n",
       "    </tr>\n",
       "    <tr>\n",
       "      <th>4</th>\n",
       "      <td>vhigh</td>\n",
       "      <td>vhigh</td>\n",
       "      <td>2</td>\n",
       "      <td>2</td>\n",
       "      <td>med</td>\n",
       "      <td>high</td>\n",
       "      <td>unacc</td>\n",
       "    </tr>\n",
       "    <tr>\n",
       "      <th>...</th>\n",
       "      <td>...</td>\n",
       "      <td>...</td>\n",
       "      <td>...</td>\n",
       "      <td>...</td>\n",
       "      <td>...</td>\n",
       "      <td>...</td>\n",
       "      <td>...</td>\n",
       "    </tr>\n",
       "    <tr>\n",
       "      <th>1722</th>\n",
       "      <td>low</td>\n",
       "      <td>low</td>\n",
       "      <td>5more</td>\n",
       "      <td>more</td>\n",
       "      <td>med</td>\n",
       "      <td>med</td>\n",
       "      <td>good</td>\n",
       "    </tr>\n",
       "    <tr>\n",
       "      <th>1723</th>\n",
       "      <td>low</td>\n",
       "      <td>low</td>\n",
       "      <td>5more</td>\n",
       "      <td>more</td>\n",
       "      <td>med</td>\n",
       "      <td>high</td>\n",
       "      <td>vgood</td>\n",
       "    </tr>\n",
       "    <tr>\n",
       "      <th>1724</th>\n",
       "      <td>low</td>\n",
       "      <td>low</td>\n",
       "      <td>5more</td>\n",
       "      <td>more</td>\n",
       "      <td>big</td>\n",
       "      <td>low</td>\n",
       "      <td>unacc</td>\n",
       "    </tr>\n",
       "    <tr>\n",
       "      <th>1725</th>\n",
       "      <td>low</td>\n",
       "      <td>low</td>\n",
       "      <td>5more</td>\n",
       "      <td>more</td>\n",
       "      <td>big</td>\n",
       "      <td>med</td>\n",
       "      <td>good</td>\n",
       "    </tr>\n",
       "    <tr>\n",
       "      <th>1726</th>\n",
       "      <td>low</td>\n",
       "      <td>low</td>\n",
       "      <td>5more</td>\n",
       "      <td>more</td>\n",
       "      <td>big</td>\n",
       "      <td>high</td>\n",
       "      <td>vgood</td>\n",
       "    </tr>\n",
       "  </tbody>\n",
       "</table>\n",
       "<p>1727 rows × 7 columns</p>\n",
       "</div>"
      ],
      "text/plain": [
       "      vhigh vhigh.1      2   2.1  small   low  unacc\n",
       "0     vhigh   vhigh      2     2  small   med  unacc\n",
       "1     vhigh   vhigh      2     2  small  high  unacc\n",
       "2     vhigh   vhigh      2     2    med   low  unacc\n",
       "3     vhigh   vhigh      2     2    med   med  unacc\n",
       "4     vhigh   vhigh      2     2    med  high  unacc\n",
       "...     ...     ...    ...   ...    ...   ...    ...\n",
       "1722    low     low  5more  more    med   med   good\n",
       "1723    low     low  5more  more    med  high  vgood\n",
       "1724    low     low  5more  more    big   low  unacc\n",
       "1725    low     low  5more  more    big   med   good\n",
       "1726    low     low  5more  more    big  high  vgood\n",
       "\n",
       "[1727 rows x 7 columns]"
      ]
     },
     "execution_count": 3,
     "metadata": {},
     "output_type": "execute_result"
    }
   ],
   "source": [
    "import pandas as pd\n",
    "import matplotlib.pyplot as plt\n",
    "from sklearn.model_selection import train_test_split\n",
    "from sklearn.preprocessing import LabelEncoder\n",
    "from sklearn.ensemble import RandomForestClassifier\n",
    "from sklearn.tree import DecisionTreeClassifier\n",
    "from sklearn.linear_model import LogisticRegression\n",
    "from sklearn.svm import SVC\n",
    "from sklearn.metrics import accuracy_score, confusion_matrix, classification_report\n",
    "\n",
    "# 데이터 로드\n",
    "file_path = r\"C:\\Users\\ckstn\\OneDrive\\바탕 화면\\인공지능개론\\deeplearning-application\\week3\\car_evaluation.csv\"\n",
    "df = pd.read_csv(file_path)\n",
    "\n",
    "df"
   ]
  },
  {
   "cell_type": "code",
   "execution_count": 27,
   "id": "6ae5be86-9501-473c-b805-0de220a45578",
   "metadata": {},
   "outputs": [
    {
     "data": {
      "text/plain": [
       "Index(['vhigh', 'vhigh.1', '2', '2.1', 'small', 'low', 'unacc'], dtype='object')"
      ]
     },
     "execution_count": 27,
     "metadata": {},
     "output_type": "execute_result"
    }
   ],
   "source": [
    "df.columns"
   ]
  },
  {
   "cell_type": "code",
   "execution_count": 5,
   "id": "37f3a18e-ec8b-4681-91e9-64ba333be706",
   "metadata": {},
   "outputs": [
    {
     "name": "stdout",
     "output_type": "stream",
     "text": [
      "결측치 확인:\n",
      " vhigh      0\n",
      "vhigh.1    0\n",
      "2          0\n",
      "2.1        0\n",
      "small      0\n",
      "low        0\n",
      "unacc      0\n",
      "dtype: int64\n"
     ]
    }
   ],
   "source": [
    "# 결측치 확인 및 제거\n",
    "print(\"결측치 확인:\\n\", df.isnull().sum())\n",
    "df.dropna(inplace=True)"
   ]
  },
  {
   "cell_type": "code",
   "execution_count": 7,
   "id": "63814e7b-5f6d-49f3-8c5a-4f5306ab78b1",
   "metadata": {},
   "outputs": [],
   "source": [
    "# 범주형 데이터를 숫자로 변환\n",
    "label_encoders = {}\n",
    "for col in df.columns:\n",
    "    le = LabelEncoder()\n",
    "    df[col] = le.fit_transform(df[col])\n",
    "    label_encoders[col] = le"
   ]
  },
  {
   "cell_type": "code",
   "execution_count": 33,
   "id": "19004389-7ac2-4135-bb2c-b8f58361cf70",
   "metadata": {},
   "outputs": [
    {
     "name": "stdout",
     "output_type": "stream",
     "text": [
      "\n",
      "레이블 분포 (숫자로 확인):\n",
      " unacc\n",
      "2    1209\n",
      "0     384\n",
      "1      69\n",
      "3      65\n",
      "Name: count, dtype: int64\n"
     ]
    },
    {
     "data": {
      "image/png": "[encoded data removed]",
      "text/plain": [
       "<Figure size 800x500 with 1 Axes>"
      ]
     },
     "metadata": {},
     "output_type": "display_data"
    }
   ],
   "source": [
    "# 레이블 확인\n",
    "def plot_label_distribution(df):\n",
    "    label_counts = df['unacc'].value_counts()\n",
    "    print(\"\\n레이블 분포 (숫자로 확인):\\n\", label_counts)\n",
    "    plt.figure(figsize=(8,5))\n",
    "    plt.bar(label_counts.index, label_counts.values, color=['blue', 'green', 'red', 'orange'])\n",
    "    plt.xlabel('Class Label')\n",
    "    plt.ylabel('Count')\n",
    "    plt.title('Distribution of Target Labels')\n",
    "    plt.xticks(label_counts.index, ['unacc', 'acc', 'good', 'vgood'])\n",
    "    plt.show()\n",
    "\n",
    "plot_label_distribution(df)"
   ]
  },
  {
   "cell_type": "code",
   "execution_count": 9,
   "id": "cc9072b2-4db5-4cd1-94c5-f4a90dcf2da1",
   "metadata": {},
   "outputs": [],
   "source": [
    "# 데이터 분리\n",
    "X = df.drop('unacc', axis=1)\n",
    "y = df['unacc']\n",
    "X_train, X_test, y_train, y_test = train_test_split(X, y, test_size=0.2, random_state=42)"
   ]
  },
  {
   "cell_type": "code",
   "execution_count": 11,
   "id": "76f0d9e7-ad83-4087-bcf3-1d6e0a0bb5c1",
   "metadata": {},
   "outputs": [],
   "source": [
    "# 모델 학습 및 평가\n",
    "accuracies = {}"
   ]
  },
  {
   "cell_type": "code",
   "execution_count": 13,
   "id": "820559f1-868e-4415-9f91-9f03975b615e",
   "metadata": {},
   "outputs": [
    {
     "name": "stdout",
     "output_type": "stream",
     "text": [
      "결정 트리 정확도: 0.9710982658959537\n",
      "Confusion Matrix:\n",
      " [[ 73   2   0   2]\n",
      " [  2  12   0   1]\n",
      " [  1   0 236   0]\n",
      " [  0   2   0  15]]\n",
      "              precision    recall  f1-score   support\n",
      "\n",
      "           0       0.96      0.95      0.95        77\n",
      "           1       0.75      0.80      0.77        15\n",
      "           2       1.00      1.00      1.00       237\n",
      "           3       0.83      0.88      0.86        17\n",
      "\n",
      "    accuracy                           0.97       346\n",
      "   macro avg       0.89      0.91      0.90       346\n",
      "weighted avg       0.97      0.97      0.97       346\n",
      "\n"
     ]
    }
   ],
   "source": [
    "# 결정 트리 모델 학습 및 평가\n",
    "dt = DecisionTreeClassifier(random_state=42)\n",
    "dt.fit(X_train, y_train)\n",
    "y_pred_dt = dt.predict(X_test)\n",
    "accuracies[\"Decision Tree\"] = accuracy_score(y_test, y_pred_dt)\n",
    "\n",
    "print(\"결정 트리 정확도:\", accuracy_score(y_test, y_pred_dt))\n",
    "print(\"Confusion Matrix:\\n\", confusion_matrix(y_test, y_pred_dt))\n",
    "print(classification_report(y_test, y_pred_dt, zero_division=1))"
   ]
  },
  {
   "cell_type": "code",
   "execution_count": 15,
   "id": "a05a14dc-d29c-4e57-8079-c16e74061349",
   "metadata": {},
   "outputs": [
    {
     "name": "stdout",
     "output_type": "stream",
     "text": [
      "\n",
      "랜덤 포레스트 정확도: 0.9624277456647399\n",
      "Confusion Matrix:\n",
      " [[ 72   1   3   1]\n",
      " [  2  10   0   3]\n",
      " [  1   0 236   0]\n",
      " [  2   0   0  15]]\n",
      "              precision    recall  f1-score   support\n",
      "\n",
      "           0       0.94      0.94      0.94        77\n",
      "           1       0.91      0.67      0.77        15\n",
      "           2       0.99      1.00      0.99       237\n",
      "           3       0.79      0.88      0.83        17\n",
      "\n",
      "    accuracy                           0.96       346\n",
      "   macro avg       0.91      0.87      0.88       346\n",
      "weighted avg       0.96      0.96      0.96       346\n",
      "\n"
     ]
    }
   ],
   "source": [
    "# 랜덤 포레스트 모델 학습 및 평가\n",
    "rf = RandomForestClassifier(random_state=42)\n",
    "rf.fit(X_train, y_train)\n",
    "y_pred_rf = rf.predict(X_test)\n",
    "accuracies[\"Random Forest\"] = accuracy_score(y_test, y_pred_rf)\n",
    "\n",
    "print(\"\\n랜덤 포레스트 정확도:\", accuracy_score(y_test, y_pred_rf))\n",
    "print(\"Confusion Matrix:\\n\", confusion_matrix(y_test, y_pred_rf))\n",
    "print(classification_report(y_test, y_pred_rf, zero_division=1))"
   ]
  },
  {
   "cell_type": "code",
   "execution_count": 17,
   "id": "73a61e71-9476-4931-8856-2b7b9101233c",
   "metadata": {},
   "outputs": [
    {
     "name": "stdout",
     "output_type": "stream",
     "text": [
      "\n",
      "로지스틱 회귀 정확도: 0.684971098265896\n",
      "Confusion Matrix:\n",
      " [[ 12   0  64   1]\n",
      " [  2   0  13   0]\n",
      " [ 13   0 224   0]\n",
      " [ 11   0   5   1]]\n",
      "              precision    recall  f1-score   support\n",
      "\n",
      "           0       0.32      0.16      0.21        77\n",
      "           1       1.00      0.00      0.00        15\n",
      "           2       0.73      0.95      0.83       237\n",
      "           3       0.50      0.06      0.11        17\n",
      "\n",
      "    accuracy                           0.68       346\n",
      "   macro avg       0.64      0.29      0.28       346\n",
      "weighted avg       0.64      0.68      0.62       346\n",
      "\n"
     ]
    }
   ],
   "source": [
    "# 로지스틱 회귀 모델 학습 및 평가\n",
    "lr = LogisticRegression(max_iter=1000, random_state=42)\n",
    "lr.fit(X_train, y_train)\n",
    "y_pred_lr = lr.predict(X_test)\n",
    "accuracies[\"Logistic Regression\"] = accuracy_score(y_test, y_pred_lr)\n",
    "\n",
    "print(\"\\n로지스틱 회귀 정확도:\", accuracy_score(y_test, y_pred_lr))\n",
    "print(\"Confusion Matrix:\\n\", confusion_matrix(y_test, y_pred_lr))\n",
    "print(classification_report(y_test, y_pred_lr, zero_division=1))"
   ]
  },
  {
   "cell_type": "code",
   "execution_count": 19,
   "id": "ccc31634-4898-4e87-8997-ab4a168cf7f9",
   "metadata": {},
   "outputs": [
    {
     "name": "stdout",
     "output_type": "stream",
     "text": [
      "\n",
      "서포트 벡터 머신 정확도: 0.7167630057803468\n",
      "Confusion Matrix:\n",
      " [[ 11   0  66   0]\n",
      " [  0   0  15   0]\n",
      " [  0   0 237   0]\n",
      " [ 10   0   7   0]]\n",
      "              precision    recall  f1-score   support\n",
      "\n",
      "           0       0.52      0.14      0.22        77\n",
      "           1       1.00      0.00      0.00        15\n",
      "           2       0.73      1.00      0.84       237\n",
      "           3       1.00      0.00      0.00        17\n",
      "\n",
      "    accuracy                           0.72       346\n",
      "   macro avg       0.81      0.29      0.27       346\n",
      "weighted avg       0.71      0.72      0.63       346\n",
      "\n"
     ]
    }
   ],
   "source": [
    "# 서포트 벡터 머신 모델 학습 및 평가\n",
    "svm = SVC(kernel='linear', random_state=42)\n",
    "svm.fit(X_train, y_train)\n",
    "y_pred_svm = svm.predict(X_test)\n",
    "accuracies[\"SVM\"] = accuracy_score(y_test, y_pred_svm)\n",
    "\n",
    "print(\"\\n서포트 벡터 머신 정확도:\", accuracy_score(y_test, y_pred_svm))\n",
    "print(\"Confusion Matrix:\\n\", confusion_matrix(y_test, y_pred_svm))\n",
    "print(classification_report(y_test, y_pred_svm, zero_division=1))"
   ]
  },
  {
   "cell_type": "code",
   "execution_count": 31,
   "id": "ce3276b1-5e38-4d66-bfa9-261da892cf5c",
   "metadata": {},
   "outputs": [
    {
     "data": {
      "image/png": "[encoded data removed]",
      "text/plain": [
       "<Figure size 1000x500 with 1 Axes>"
      ]
     },
     "metadata": {},
     "output_type": "display_data"
    }
   ],
   "source": [
    "# 정확도 시각화\n",
    "plt.figure(figsize=(10,5))\n",
    "plt.bar(accuracies.keys(), accuracies.values(), color=['blue', 'green', 'red', 'orange'])\n",
    "plt.xlabel('Model')\n",
    "plt.ylabel('Accuracy')\n",
    "plt.title('Comparison of Model Accuracies')\n",
    "plt.ylim(0, 1)\n",
    "plt.show()"
   ]
  }
 ],
 "metadata": {
  "kernelspec": {
   "display_name": "Python [conda env:base] *",
   "language": "python",
   "name": "conda-base-py"
  },
  "language_info": {
   "codemirror_mode": {
    "name": "ipython",
    "version": 3
   },
   "file_extension": ".py",
   "mimetype": "text/x-python",
   "name": "python",
   "nbconvert_exporter": "python",
   "pygments_lexer": "ipython3",
   "version": "3.12.7"
  }
 },
 "nbformat": 4,
 "nbformat_minor": 5
}
