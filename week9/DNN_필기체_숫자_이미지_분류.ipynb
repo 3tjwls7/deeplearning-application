{
  "nbformat": 4,
  "nbformat_minor": 0,
  "metadata": {
    "colab": {
      "provenance": []
    },
    "kernelspec": {
      "name": "python3",
      "display_name": "Python 3"
    },
    "language_info": {
      "name": "python"
    }
  },
  "cells": [
    {
      "cell_type": "code",
      "execution_count": 43,
      "metadata": {
        "colab": {
          "base_uri": "https://localhost:8080/",
          "height": 430
        },
        "id": "Wf1KQXaHhbfp",
        "outputId": "b4149a1c-624d-43c6-e326-bbcf3297f235"
      },
      "outputs": [
        {
          "output_type": "display_data",
          "data": {
            "text/plain": [
              "<Figure size 640x480 with 1 Axes>"
            ],
            "image/png": "[encoded data removed]"
          },
          "metadata": {}
        }
      ],
      "source": [
        "# 데이터 세트 읽어들이기\n",
        "import matplotlib.pyplot as plt\n",
        "from sklearn import datasets, metrics\n",
        "from sklearn.model_selection import train_test_split\n",
        "import torch\n",
        "import torch.nn as nn\n",
        "import torch.optim as optim\n",
        "\n",
        "# 데이터 로드\n",
        "digits = datasets.load_digits()\n",
        "plt.imshow(digits.images[0], cmap=plt.cm.gray_r, interpolation='nearest')\n",
        "plt.show()"
      ]
    },
    {
      "cell_type": "code",
      "source": [
        "n_samples = len(digits.images)\n",
        "data = digits.images.reshape((n_samples, -1))\n",
        "\n",
        "# 훈련 데이터와 테스트 데이터\n",
        "X_train, X_test, y_train, y_test = train_test_split(data, digits.target, test_size=0.2)"
      ],
      "metadata": {
        "id": "-vtVM_ysh52r"
      },
      "execution_count": 44,
      "outputs": []
    },
    {
      "cell_type": "code",
      "source": [
        "# numpy -> tensor 변환\n",
        "X_train = torch.tensor(X_train, dtype=torch.float32)\n",
        "X_test = torch.tensor(X_test, dtype=torch.float32)\n",
        "y_train = torch.tensor(y_train, dtype=torch.long)\n",
        "y_test = torch.tensor(y_test, dtype=torch.long)"
      ],
      "metadata": {
        "id": "gFVWIwkZjNsa"
      },
      "execution_count": 45,
      "outputs": []
    },
    {
      "cell_type": "code",
      "source": [
        "# 모델\n",
        "class SimpleNN(nn.Module):\n",
        "    def __init__(self):\n",
        "        super(SimpleNN, self).__init__()\n",
        "        self.fc1 = nn.Linear(64, 64)  # 입력 64차원, 출력 64차원\n",
        "        self.relu = nn.ReLU()\n",
        "        self.fc2 = nn.Linear(64, 10)  # 10개의 숫자 분류\n",
        "\n",
        "    def forward(self, x):\n",
        "        x = self.fc1(x)\n",
        "        x = self.relu(x)\n",
        "        x = self.fc2(x)\n",
        "        return x\n",
        "\n",
        "model = SimpleNN()\n",
        "\n",
        "# 손실 함수와 최적화하기\n",
        "criterion = nn.CrossEntropyLoss()\n",
        "optimizer = optim.Adam(model.parameters(), lr=0.001)"
      ],
      "metadata": {
        "id": "Z_FIubVLiM2G"
      },
      "execution_count": 46,
      "outputs": []
    },
    {
      "cell_type": "code",
      "source": [
        "# 학습\n",
        "epochs = 100\n",
        "for epoch in range(epochs):\n",
        "    model.train()\n",
        "    optimizer.zero_grad()\n",
        "    outputs = model(X_train)\n",
        "    loss = criterion(outputs, y_train)\n",
        "    loss.backward()\n",
        "    optimizer.step()\n",
        "\n",
        "    if (epoch+1) % 5 == 0:\n",
        "        print(f'Epoch [{epoch+1}/{epochs}], Loss: {loss.item():.4f}')"
      ],
      "metadata": {
        "colab": {
          "base_uri": "https://localhost:8080/"
        },
        "id": "-VUNO8tNjUiz",
        "outputId": "cfa378ef-c54f-4abb-93cf-e4c996b3bf1e"
      },
      "execution_count": 50,
      "outputs": [
        {
          "output_type": "stream",
          "name": "stdout",
          "text": [
            "Epoch [5/100], Loss: 0.2345\n",
            "Epoch [10/100], Loss: 0.2073\n",
            "Epoch [15/100], Loss: 0.1859\n",
            "Epoch [20/100], Loss: 0.1688\n",
            "Epoch [25/100], Loss: 0.1548\n",
            "Epoch [30/100], Loss: 0.1429\n",
            "Epoch [35/100], Loss: 0.1326\n",
            "Epoch [40/100], Loss: 0.1237\n",
            "Epoch [45/100], Loss: 0.1158\n",
            "Epoch [50/100], Loss: 0.1088\n",
            "Epoch [55/100], Loss: 0.1024\n",
            "Epoch [60/100], Loss: 0.0966\n",
            "Epoch [65/100], Loss: 0.0914\n",
            "Epoch [70/100], Loss: 0.0865\n",
            "Epoch [75/100], Loss: 0.0820\n",
            "Epoch [80/100], Loss: 0.0779\n",
            "Epoch [85/100], Loss: 0.0741\n",
            "Epoch [90/100], Loss: 0.0705\n",
            "Epoch [95/100], Loss: 0.0672\n",
            "Epoch [100/100], Loss: 0.0640\n"
          ]
        }
      ]
    },
    {
      "cell_type": "code",
      "source": [
        "# 예측\n",
        "model.eval()\n",
        "with torch.no_grad():\n",
        "    outputs = model(X_test)\n",
        "    _, predicted = torch.max(outputs, 1)"
      ],
      "metadata": {
        "id": "NNQPPjXwjXBH"
      },
      "execution_count": 51,
      "outputs": []
    },
    {
      "cell_type": "code",
      "source": [
        "# 정확도 계산\n",
        "accuracy = metrics.accuracy_score(y_test.numpy(), predicted.numpy())\n",
        "print('Accuracy:', accuracy)"
      ],
      "metadata": {
        "colab": {
          "base_uri": "https://localhost:8080/"
        },
        "id": "_ZBwj6RXjZKu",
        "outputId": "59a870ff-9eb2-4471-8367-7eac48eacfc1"
      },
      "execution_count": 52,
      "outputs": [
        {
          "output_type": "stream",
          "name": "stdout",
          "text": [
            "Accuracy: 0.9861111111111112\n"
          ]
        }
      ]
    },
    {
      "cell_type": "code",
      "source": [
        "# 테스트 이미지 하나 보여주기\n",
        "plt.imshow(X_test[10].reshape(8, 8), cmap=plt.cm.gray_r, interpolation='nearest')"
      ],
      "metadata": {
        "colab": {
          "base_uri": "https://localhost:8080/",
          "height": 448
        },
        "id": "TgwlL359iVf8",
        "outputId": "c071f70f-9854-4a0f-cfc9-51b4d7f209b4"
      },
      "execution_count": 53,
      "outputs": [
        {
          "output_type": "execute_result",
          "data": {
            "text/plain": [
              "<matplotlib.image.AxesImage at 0x7bc6540af750>"
            ]
          },
          "metadata": {},
          "execution_count": 53
        },
        {
          "output_type": "display_data",
          "data": {
            "text/plain": [
              "<Figure size 640x480 with 1 Axes>"
            ],
            "image/png": "[encoded data removed]"
          },
          "metadata": {}
        }
      ]
    },
    {
      "cell_type": "code",
      "source": [
        "# 예측 결과\n",
        "model.eval()\n",
        "with torch.no_grad():\n",
        "    sample = X_test[10].unsqueeze(0)  # 배치 차원 추가\n",
        "    output = model(sample)\n",
        "    _, y_pred = torch.max(output, 1)\n",
        "    print('예측 결과:', y_pred.item())  # 숫자 값만 출력"
      ],
      "metadata": {
        "colab": {
          "base_uri": "https://localhost:8080/"
        },
        "id": "3DdRu22Ek42S",
        "outputId": "c9bd5efe-6c66-4b18-a85c-c81c2e06b1b4"
      },
      "execution_count": 54,
      "outputs": [
        {
          "output_type": "stream",
          "name": "stdout",
          "text": [
            "예측 결과: 7\n"
          ]
        }
      ]
    }
  ]
}